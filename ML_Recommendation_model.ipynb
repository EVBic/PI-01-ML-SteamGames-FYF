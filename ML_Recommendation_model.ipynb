{
 "cells": [
  {
   "cell_type": "markdown",
   "metadata": {},
   "source": [
    "01ML ===>>> From Item_Id Recommend 5 Games  "
   ]
  },
  {
   "cell_type": "code",
   "execution_count": 1,
   "metadata": {},
   "outputs": [],
   "source": [
    "import pandas as pd\n",
    "from fastapi import FastAPI"
   ]
  },
  {
   "cell_type": "code",
   "execution_count": 3,
   "metadata": {},
   "outputs": [],
   "source": [
    "df_recommendation= pd.read_csv(r\"C:\\Users\\m_evi\\OneDrive\\Desktop\\MLInt\\Datasets\\CleanDatasets\\steam_games.csv\")\n"
   ]
  },
  {
   "cell_type": "code",
   "execution_count": 4,
   "metadata": {},
   "outputs": [
    {
     "data": {
      "text/html": [
       "<div>\n",
       "<style scoped>\n",
       "    .dataframe tbody tr th:only-of-type {\n",
       "        vertical-align: middle;\n",
       "    }\n",
       "\n",
       "    .dataframe tbody tr th {\n",
       "        vertical-align: top;\n",
       "    }\n",
       "\n",
       "    .dataframe thead th {\n",
       "        text-align: right;\n",
       "    }\n",
       "</style>\n",
       "<table border=\"1\" class=\"dataframe\">\n",
       "  <thead>\n",
       "    <tr style=\"text-align: right;\">\n",
       "      <th></th>\n",
       "      <th>genres</th>\n",
       "      <th>price</th>\n",
       "      <th>early_access</th>\n",
       "      <th>item_id</th>\n",
       "      <th>release_year</th>\n",
       "      <th>publisher</th>\n",
       "      <th>app_name</th>\n",
       "      <th>item_name</th>\n",
       "      <th>developer</th>\n",
       "    </tr>\n",
       "  </thead>\n",
       "  <tbody>\n",
       "    <tr>\n",
       "      <th>0</th>\n",
       "      <td>Action</td>\n",
       "      <td>4.99</td>\n",
       "      <td>0.0</td>\n",
       "      <td>761140</td>\n",
       "      <td>2018</td>\n",
       "      <td>Kotoshiro</td>\n",
       "      <td>Lost Summoner Kitty</td>\n",
       "      <td>Lost Summoner Kitty</td>\n",
       "      <td>Kotoshiro</td>\n",
       "    </tr>\n",
       "    <tr>\n",
       "      <th>1</th>\n",
       "      <td>Casual</td>\n",
       "      <td>4.99</td>\n",
       "      <td>0.0</td>\n",
       "      <td>761140</td>\n",
       "      <td>2018</td>\n",
       "      <td>Kotoshiro</td>\n",
       "      <td>Lost Summoner Kitty</td>\n",
       "      <td>Lost Summoner Kitty</td>\n",
       "      <td>Kotoshiro</td>\n",
       "    </tr>\n",
       "    <tr>\n",
       "      <th>2</th>\n",
       "      <td>Indie</td>\n",
       "      <td>4.99</td>\n",
       "      <td>0.0</td>\n",
       "      <td>761140</td>\n",
       "      <td>2018</td>\n",
       "      <td>Kotoshiro</td>\n",
       "      <td>Lost Summoner Kitty</td>\n",
       "      <td>Lost Summoner Kitty</td>\n",
       "      <td>Kotoshiro</td>\n",
       "    </tr>\n",
       "    <tr>\n",
       "      <th>3</th>\n",
       "      <td>Simulation</td>\n",
       "      <td>4.99</td>\n",
       "      <td>0.0</td>\n",
       "      <td>761140</td>\n",
       "      <td>2018</td>\n",
       "      <td>Kotoshiro</td>\n",
       "      <td>Lost Summoner Kitty</td>\n",
       "      <td>Lost Summoner Kitty</td>\n",
       "      <td>Kotoshiro</td>\n",
       "    </tr>\n",
       "    <tr>\n",
       "      <th>4</th>\n",
       "      <td>Strategy</td>\n",
       "      <td>4.99</td>\n",
       "      <td>0.0</td>\n",
       "      <td>761140</td>\n",
       "      <td>2018</td>\n",
       "      <td>Kotoshiro</td>\n",
       "      <td>Lost Summoner Kitty</td>\n",
       "      <td>Lost Summoner Kitty</td>\n",
       "      <td>Kotoshiro</td>\n",
       "    </tr>\n",
       "  </tbody>\n",
       "</table>\n",
       "</div>"
      ],
      "text/plain": [
       "       genres  price  early_access  item_id release_year  publisher  \\\n",
       "0      Action   4.99           0.0   761140         2018  Kotoshiro   \n",
       "1      Casual   4.99           0.0   761140         2018  Kotoshiro   \n",
       "2       Indie   4.99           0.0   761140         2018  Kotoshiro   \n",
       "3  Simulation   4.99           0.0   761140         2018  Kotoshiro   \n",
       "4    Strategy   4.99           0.0   761140         2018  Kotoshiro   \n",
       "\n",
       "              app_name            item_name  developer  \n",
       "0  Lost Summoner Kitty  Lost Summoner Kitty  Kotoshiro  \n",
       "1  Lost Summoner Kitty  Lost Summoner Kitty  Kotoshiro  \n",
       "2  Lost Summoner Kitty  Lost Summoner Kitty  Kotoshiro  \n",
       "3  Lost Summoner Kitty  Lost Summoner Kitty  Kotoshiro  \n",
       "4  Lost Summoner Kitty  Lost Summoner Kitty  Kotoshiro  "
      ]
     },
     "execution_count": 4,
     "metadata": {},
     "output_type": "execute_result"
    }
   ],
   "source": [
    "df_recommendation.head()"
   ]
  },
  {
   "cell_type": "code",
   "execution_count": 8,
   "metadata": {},
   "outputs": [],
   "source": [
    "import numpy as np\n",
    "from sklearn.metrics.pairwise import cosine_similarity"
   ]
  },
  {
   "cell_type": "code",
   "execution_count": 9,
   "metadata": {},
   "outputs": [],
   "source": [
    "\n",
    "\n",
    "def game_recommendation(item_id: int):\n",
    "\n",
    "  \n",
    "    # Filter games that match the given item ID\n",
    "    filtered_game = df_recommendation[df_recommendation['item_id'] == item_id]\n",
    "\n",
    "    # Get the genres of the given game\n",
    "    game_genres = set(filtered_game['genres'].str.split(',').explode())\n",
    "\n",
    "    # Filter games that share at least 1 genre with the given game\n",
    "    recommended_games = df_recommendation[df_recommendation['genres'].apply(lambda x: len(set(x.split(',')).intersection(game_genres)) >= 1)]\n",
    "\n",
    "    # Calculate cosine similarity between genre vectors of games\n",
    "    recommended_games.loc[:, 'genres_vector'] = recommended_games['genres'].apply(lambda x: np.array([1 if genre in x else 0 for genre in game_genres]))\n",
    "    filtered_game.loc[:, 'genres_vector'] = filtered_game['genres'].apply(lambda x: np.array([1 if genre in x else 0 for genre in game_genres]))\n",
    "    recommended_games.loc[:, 'similarity'] = recommended_games.apply(lambda row: cosine_similarity([row['genres_vector']], [filtered_game['genres_vector'].iloc[0]])[0][0], axis=1)\n",
    "\n",
    "    # Sort games by similarity and recommendation in descending order\n",
    "    recommended_games = recommended_games.sort_values(['similarity'], ascending=[False])\n",
    "\n",
    "    # Select the top 5 games with highest similarity and recommendation\n",
    "    top_recommended_games = recommended_games.head(5)\n",
    "\n",
    "    # Create a dictionary of recommended game names along with their developers\n",
    "    recommended_games_dict = {}\n",
    "    recommended_games_dict['Because you liked ' + filtered_game['item_name'].iloc[0] + ', you might also enjoy...'] = top_recommended_games[['item_name']].to_dict(orient='records')\n",
    "\n",
    "    return recommended_games_dict"
   ]
  },
  {
   "cell_type": "code",
   "execution_count": 10,
   "metadata": {},
   "outputs": [
    {
     "name": "stderr",
     "output_type": "stream",
     "text": [
      "C:\\Users\\m_evi\\AppData\\Local\\Temp\\ipykernel_4452\\2618191416.py:14: SettingWithCopyWarning: \n",
      "A value is trying to be set on a copy of a slice from a DataFrame.\n",
      "Try using .loc[row_indexer,col_indexer] = value instead\n",
      "\n",
      "See the caveats in the documentation: https://pandas.pydata.org/pandas-docs/stable/user_guide/indexing.html#returning-a-view-versus-a-copy\n",
      "  recommended_games.loc[:, 'genres_vector'] = recommended_games['genres'].apply(lambda x: np.array([1 if genre in x else 0 for genre in game_genres]))\n",
      "C:\\Users\\m_evi\\AppData\\Local\\Temp\\ipykernel_4452\\2618191416.py:15: SettingWithCopyWarning: \n",
      "A value is trying to be set on a copy of a slice from a DataFrame.\n",
      "Try using .loc[row_indexer,col_indexer] = value instead\n",
      "\n",
      "See the caveats in the documentation: https://pandas.pydata.org/pandas-docs/stable/user_guide/indexing.html#returning-a-view-versus-a-copy\n",
      "  filtered_game.loc[:, 'genres_vector'] = filtered_game['genres'].apply(lambda x: np.array([1 if genre in x else 0 for genre in game_genres]))\n",
      "C:\\Users\\m_evi\\AppData\\Local\\Temp\\ipykernel_4452\\2618191416.py:16: SettingWithCopyWarning: \n",
      "A value is trying to be set on a copy of a slice from a DataFrame.\n",
      "Try using .loc[row_indexer,col_indexer] = value instead\n",
      "\n",
      "See the caveats in the documentation: https://pandas.pydata.org/pandas-docs/stable/user_guide/indexing.html#returning-a-view-versus-a-copy\n",
      "  recommended_games.loc[:, 'similarity'] = recommended_games.apply(lambda row: cosine_similarity([row['genres_vector']], [filtered_game['genres_vector'].iloc[0]])[0][0], axis=1)\n"
     ]
    },
    {
     "data": {
      "text/plain": [
       "{'Because you liked Half-Life, you might also enjoy...': [{'item_name': 'Lost Summoner Kitty'},\n",
       "  {'item_name': 'Pale Blue Gullwings &amp; Pale Blue Visor'},\n",
       "  {'item_name': 'Polarity - Soundtrack'},\n",
       "  {'item_name': 'Hikikomori No Chuunibyou'},\n",
       "  {'item_name': 'Gazzel Quest, The Five Magic Stones'}]}"
      ]
     },
     "execution_count": 10,
     "metadata": {},
     "output_type": "execute_result"
    }
   ],
   "source": [
    "game_recommendation(70)"
   ]
  },
  {
   "cell_type": "code",
   "execution_count": null,
   "metadata": {},
   "outputs": [
    {
     "name": "stderr",
     "output_type": "stream",
     "text": [
      "C:\\Users\\m_evi\\AppData\\Local\\Temp\\ipykernel_13904\\3183896075.py:15: SettingWithCopyWarning: \n",
      "A value is trying to be set on a copy of a slice from a DataFrame.\n",
      "Try using .loc[row_indexer,col_indexer] = value instead\n",
      "\n",
      "See the caveats in the documentation: https://pandas.pydata.org/pandas-docs/stable/user_guide/indexing.html#returning-a-view-versus-a-copy\n",
      "  recommended_games.loc[:, 'genres_vector'] = recommended_games['genres'].apply(lambda x: np.array([1 if genre in x else 0 for genre in game_genres]))\n",
      "C:\\Users\\m_evi\\AppData\\Local\\Temp\\ipykernel_13904\\3183896075.py:16: SettingWithCopyWarning: \n",
      "A value is trying to be set on a copy of a slice from a DataFrame.\n",
      "Try using .loc[row_indexer,col_indexer] = value instead\n",
      "\n",
      "See the caveats in the documentation: https://pandas.pydata.org/pandas-docs/stable/user_guide/indexing.html#returning-a-view-versus-a-copy\n",
      "  filtered_game.loc[:, 'genres_vector'] = filtered_game['genres'].apply(lambda x: np.array([1 if genre in x else 0 for genre in game_genres]))\n",
      "C:\\Users\\m_evi\\AppData\\Local\\Temp\\ipykernel_13904\\3183896075.py:17: SettingWithCopyWarning: \n",
      "A value is trying to be set on a copy of a slice from a DataFrame.\n",
      "Try using .loc[row_indexer,col_indexer] = value instead\n",
      "\n",
      "See the caveats in the documentation: https://pandas.pydata.org/pandas-docs/stable/user_guide/indexing.html#returning-a-view-versus-a-copy\n",
      "  recommended_games.loc[:, 'similarity'] = recommended_games.apply(lambda row: cosine_similarity([row['genres_vector']], [filtered_game['genres_vector'].iloc[0]])[0][0], axis=1)\n"
     ]
    },
    {
     "data": {
      "text/plain": [
       "{'Because you liked Killing Floor, you might also enjoy...': [{'item_name': 'Lost Summoner Kitty'},\n",
       "  {'item_name': 'Pale Blue Gullwings &amp; Pale Blue Visor'},\n",
       "  {'item_name': 'Polarity - Soundtrack'},\n",
       "  {'item_name': 'Hikikomori No Chuunibyou'},\n",
       "  {'item_name': 'Gazzel Quest, The Five Magic Stones'}]}"
      ]
     },
     "execution_count": 84,
     "metadata": {},
     "output_type": "execute_result"
    }
   ],
   "source": [
    "game_recommendation(1250,df_recommendation)"
   ]
  },
  {
   "cell_type": "code",
   "execution_count": null,
   "metadata": {},
   "outputs": [],
   "source": [
    "from sklearn.feature_extraction.text import TfidfVectorizer\n",
    "from sklearn.metrics.pairwise import cosine_similarity\n",
    "\n",
    "# Load the DataFrame df_games from your CSV file\n",
    "df_games = pd.read_csv('./CleanDatasets/steam_games.csv')\n",
    "\n",
    "def game_recommendation2(product_id: int):\n",
    "    try:\n",
    "        # Get the reference game\n",
    "        target_game = df_games[df_games['item_id'] == product_id]\n",
    "\n",
    "        if target_game.empty:\n",
    "            return {\"message\": \"Reference game not found.\"}\n",
    "        \n",
    "        # Create a TF-IDF vectorizer\n",
    "        tfidf_vectorizer = TfidfVectorizer()\n",
    "\n",
    "        # Set the batch size for reading games\n",
    "        chunk_size = 100\n",
    "\n",
    "        # Initialize similarity scores\n",
    "        similarity_scores = None\n",
    "\n",
    "        # Process games in batches using chunks\n",
    "        for chunk in pd.read_csv('./CleanDatasets/steam_games.csv', chunksize=chunk_size):\n",
    "\n",
    "            # Apply the TF-IDF vectorizer to the current batch of games and the reference game\n",
    "            tfidf_matrix = tfidf_vectorizer.fit_transform(chunk['app_name'])\n",
    "\n",
    "            # Calculate similarity between the reference game and games in the current batch\n",
    "            if similarity_scores is None:\n",
    "                similarity_scores = cosine_similarity(tfidf_matrix, tfidf_matrix[0])\n",
    "            else:\n",
    "                similarity_scores = cosine_similarity(tfidf_matrix, similarity_scores)\n",
    "\n",
    "        # Get indices of the most similar games\n",
    "        similar_games_indices = similarity_scores[0].argsort()[::-1]\n",
    "\n",
    "        # Recommend the most similar games (you can adjust the number of recommendations)\n",
    "        num_recommendations = 5\n",
    "        recommended_games = df_games.loc[similar_games_indices[1:num_recommendations + 1]]\n",
    "\n",
    "        # Return the list of recommended games\n",
    "        return recommended_games[['app_name', 'genres']].to_dict(orient='records')\n",
    "\n",
    "    except Exception as e:\n",
    "        return {\"message\": \"Sorry, there was an error processing the recommendation.\"}\n",
    "\n",
    "# Example usage:\n",
    "# recommended_games2 = game_recommendation(product_id=12345)\n",
    "# print(recommended_games)"
   ]
  },
  {
   "cell_type": "code",
   "execution_count": null,
   "metadata": {},
   "outputs": [
    {
     "name": "stdout",
     "output_type": "stream",
     "text": [
      "{'message': 'Sorry, there was an error processing the recommendation.'}\n"
     ]
    }
   ],
   "source": [
    "recommended_games2 = game_recommendation2(70)\n",
    "print(recommended_games2)"
   ]
  },
  {
   "cell_type": "markdown",
   "metadata": {},
   "source": [
    "02ML ===>>> From **User_id** recommend 5 similar games with User_id "
   ]
  },
  {
   "cell_type": "code",
   "execution_count": null,
   "metadata": {},
   "outputs": [],
   "source": [
    "#app2 = FastAPI()\n",
    "from sklearn.feature_extraction.text import TfidfVectorizer\n",
    "# Load the DataFrame df_games from your CSV file\n",
    "df_games = pd.read_csv('./CleanDatasets/steam_games.csv')\n",
    "\n",
    "#@app2.get(\"/game_recommendation/{product_id}\")\n",
    "async def game_recommendation(product_id: int):\n",
    "    try:\n",
    "        # Get the reference game\n",
    "        target_game = df_games[df_games['item_id'] == product_id]\n",
    "\n",
    "        if target_game.empty:\n",
    "            return {\"message\": \"Reference game not found.\"}\n",
    "        \n",
    "        # Create a TF-IDF vectorizer\n",
    "        tfidf_vectorizer = TfidfVectorizer()\n",
    "\n",
    "        # Set the batch size for reading games\n",
    "        chunk_size = 100\n",
    "\n",
    "        # Process games in batches using chunks\n",
    "        for chunk in pd.read_csv('./CleanDatasets/steam_games.csv', chunksize=chunk_size):\n",
    "\n",
    "            # Apply the TF-IDF vectorizer to the current batch of games and the reference game\n",
    "            tfidf_matrix = tfidf_vectorizer.fit_transform([target_game])\n",
    "\n",
    "            # Calculate similarity between the reference game and games in the current batch\n",
    "            if similarity_scores is None:\n",
    "                similarity_scores = cosine_similarity(tfidf_matrix)\n",
    "            else:\n",
    "                similarity_scores = cosine_similarity(tfidf_matrix, X=similarity_scores)\n",
    "\n",
    "        if similarity_scores is not None:\n",
    "            # Get indices of the most similar games\n",
    "            similar_games_indices = similarity_scores[0].argsort()[::-1]\n",
    "            # Recommend the most similar games (you can adjust the number of recommendations)\n",
    "            num_recommendations = 5\n",
    "            recommended_games = df_games.loc[similar_games_indices[1:num_recommendations + 1]]\n",
    "\n",
    "            # Return the list of recommended games\n",
    "            return recommended_games[['app_name', 'genres']].to_dict(orient='records')\n",
    "        \n",
    "        return {\"message\": \"Sorry, No similar games found\"}\n",
    "\n",
    "    except Exception as e:\n",
    "        return {\"message\": f\"Sorry, there is an Error, try again: {str(e)}\"} \n",
    "    \n",
    "    "
   ]
  },
  {
   "cell_type": "code",
   "execution_count": null,
   "metadata": {},
   "outputs": [
    {
     "name": "stdout",
     "output_type": "stream",
     "text": [
      "{'message': \"Sorry, there is an Error, try again: 'DataFrame' object has no attribute 'lower'\"}\n"
     ]
    }
   ],
   "source": [
    "df_games['item_id'] = df_games['item_id'].astype(str).str.lower()\n",
    "# Call the function with a specific product ID\n",
    "product_id = \"70\"  # replace with your actual product ID\n",
    "result = await game_recommendation(product_id)\n",
    "\n",
    "# Print the result\n",
    "print(result)"
   ]
  },
  {
   "cell_type": "code",
   "execution_count": null,
   "metadata": {},
   "outputs": [
    {
     "data": {
      "text/plain": [
       "<coroutine object game_recommendation at 0x000002E1629509C0>"
      ]
     },
     "execution_count": 13,
     "metadata": {},
     "output_type": "execute_result"
    }
   ],
   "source": [
    "game_recommendation(761140)"
   ]
  },
  {
   "cell_type": "markdown",
   "metadata": {},
   "source": [
    "Recommendation Model    "
   ]
  }
 ],
 "metadata": {
  "kernelspec": {
   "display_name": "Python 3",
   "language": "python",
   "name": "python3"
  },
  "language_info": {
   "codemirror_mode": {
    "name": "ipython",
    "version": 3
   },
   "file_extension": ".py",
   "mimetype": "text/x-python",
   "name": "python",
   "nbconvert_exporter": "python",
   "pygments_lexer": "ipython3",
   "version": "3.11.8"
  }
 },
 "nbformat": 4,
 "nbformat_minor": 2
}
