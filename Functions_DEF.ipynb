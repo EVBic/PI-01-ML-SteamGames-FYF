{
 "cells": [
  {
   "cell_type": "code",
   "execution_count": 1,
   "metadata": {},
   "outputs": [],
   "source": [
    "import pandas as pd\n",
    "import numpy as np\n",
    "import scipy as sp\n",
    "from sklearn.metrics.pairwise import cosine_similarity\n",
    "import operator\n",
    "import pyarrow as pa\n",
    "import pyarrow.parquet as pq"
   ]
  },
  {
   "cell_type": "code",
   "execution_count": 2,
   "metadata": {},
   "outputs": [],
   "source": [
    "# Read the Parquet file into a PyArrow Table\n",
    "\n",
    "df_reviews= pd.read_parquet(r\"C:\\Users\\m_evi\\OneDrive\\Desktop\\PI01\\CleanDatasets\\df_reviews_l.parquet\")\n",
    "df_genre_ranking = pd.read_parquet(r\"C:\\Users\\m_evi\\OneDrive\\Desktop\\PI01\\CleanDatasets\\df_genre_ranking.parquet\")\n",
    "df_playtime = pd.read_parquet(r\"C:\\Users\\m_evi\\OneDrive\\Desktop\\PI01\\CleanDatasets\\df_playtime.parquet\")\n",
    "df_funct_dev = pd.read_parquet(r\"C:\\Users\\m_evi\\OneDrive\\Desktop\\PI01\\CleanDatasets\\df_funct_dev.parquet\")\n",
    "df_expenses_items = pd.read_parquet(r\"C:\\Users\\m_evi\\OneDrive\\Desktop\\PI01\\CleanDatasets\\df_expenses_items.parquet\")"
   ]
  },
  {
   "cell_type": "code",
   "execution_count": 3,
   "metadata": {},
   "outputs": [
    {
     "name": "stdout",
     "output_type": "stream",
     "text": [
      "<class 'pandas.core.frame.DataFrame'>\n",
      "RangeIndex: 49714 entries, 0 to 49713\n",
      "Data columns (total 8 columns):\n",
      " #   Column              Non-Null Count  Dtype \n",
      "---  ------              --------------  ----- \n",
      " 0   user_id             49714 non-null  object\n",
      " 1   user_url            49714 non-null  object\n",
      " 2   sentiment_analysis  49714 non-null  int64 \n",
      " 3   posted              49714 non-null  object\n",
      " 4   item_id             49714 non-null  int64 \n",
      " 5   recommend           49714 non-null  bool  \n",
      " 6   release_year        49714 non-null  object\n",
      " 7   developer           49714 non-null  object\n",
      "dtypes: bool(1), int64(2), object(5)\n",
      "memory usage: 2.7+ MB\n"
     ]
    }
   ],
   "source": [
    "df_reviews.info()"
   ]
  },
  {
   "cell_type": "markdown",
   "metadata": {},
   "source": [
    "# 01.2 Developer Function"
   ]
  },
  {
   "cell_type": "markdown",
   "metadata": {},
   "source": [
    "This function returns the number of items and the percentage of free content per year according to the developing company."
   ]
  },
  {
   "cell_type": "code",
   "execution_count": 22,
   "metadata": {},
   "outputs": [
    {
     "name": "stdout",
     "output_type": "stream",
     "text": [
      "<class 'pandas.core.frame.DataFrame'>\n",
      "Index: 28851 entries, 0 to 71552\n",
      "Data columns (total 4 columns):\n",
      " #   Column        Non-Null Count  Dtype  \n",
      "---  ------        --------------  -----  \n",
      " 0   price         28851 non-null  float64\n",
      " 1   release_year  28851 non-null  object \n",
      " 2   developer     28851 non-null  object \n",
      " 3   item_id       28851 non-null  int64  \n",
      "dtypes: float64(1), int64(1), object(2)\n",
      "memory usage: 1.1+ MB\n"
     ]
    }
   ],
   "source": [
    "df_funct_dev.info()"
   ]
  },
  {
   "cell_type": "code",
   "execution_count": 27,
   "metadata": {},
   "outputs": [],
   "source": [
    "def developer(developer_name: str):\n",
    "    # Filter games by the specified developer\n",
    "    filtered_developer = df_funct_dev[df_funct_dev['developer'] == developer_name]\n",
    "\n",
    "    # Count the number of games released per year\n",
    "    game_count_by_year = filtered_developer.groupby('release_year')['item_id'].count()\n",
    "\n",
    "    # Calculate the percentage of free games released per year\n",
    "    free_games_percentage = (filtered_developer[filtered_developer['price'] == 0.0]\n",
    "                             .groupby('release_year')['item_id']\n",
    "                             .count() / game_count_by_year * 100).fillna(0).astype(int)\n",
    "\n",
    "    # Create a DataFrame from the results dictionary\n",
    "    results_df = pd.DataFrame({\n",
    "        'Year': game_count_by_year.index,\n",
    "        'Number of games': game_count_by_year.values,\n",
    "        '% Free games': free_games_percentage.values\n",
    "    })\n",
    "\n",
    "    return results_df\n"
   ]
  },
  {
   "cell_type": "code",
   "execution_count": 28,
   "metadata": {},
   "outputs": [
    {
     "data": {
      "text/html": [
       "<div>\n",
       "<style scoped>\n",
       "    .dataframe tbody tr th:only-of-type {\n",
       "        vertical-align: middle;\n",
       "    }\n",
       "\n",
       "    .dataframe tbody tr th {\n",
       "        vertical-align: top;\n",
       "    }\n",
       "\n",
       "    .dataframe thead th {\n",
       "        text-align: right;\n",
       "    }\n",
       "</style>\n",
       "<table border=\"1\" class=\"dataframe\">\n",
       "  <thead>\n",
       "    <tr style=\"text-align: right;\">\n",
       "      <th></th>\n",
       "      <th>Year</th>\n",
       "      <th>Number of games</th>\n",
       "      <th>% Free games</th>\n",
       "    </tr>\n",
       "  </thead>\n",
       "  <tbody>\n",
       "    <tr>\n",
       "      <th>0</th>\n",
       "      <td>2018</td>\n",
       "      <td>1</td>\n",
       "      <td>0</td>\n",
       "    </tr>\n",
       "  </tbody>\n",
       "</table>\n",
       "</div>"
      ],
      "text/plain": [
       "   Year  Number of games  % Free games\n",
       "0  2018                1             0"
      ]
     },
     "execution_count": 28,
     "metadata": {},
     "output_type": "execute_result"
    }
   ],
   "source": [
    "developer(\"Kotoshiro\")"
   ]
  },
  {
   "cell_type": "code",
   "execution_count": 29,
   "metadata": {},
   "outputs": [
    {
     "data": {
      "text/html": [
       "<div>\n",
       "<style scoped>\n",
       "    .dataframe tbody tr th:only-of-type {\n",
       "        vertical-align: middle;\n",
       "    }\n",
       "\n",
       "    .dataframe tbody tr th {\n",
       "        vertical-align: top;\n",
       "    }\n",
       "\n",
       "    .dataframe thead th {\n",
       "        text-align: right;\n",
       "    }\n",
       "</style>\n",
       "<table border=\"1\" class=\"dataframe\">\n",
       "  <thead>\n",
       "    <tr style=\"text-align: right;\">\n",
       "      <th></th>\n",
       "      <th>Year</th>\n",
       "      <th>Number of games</th>\n",
       "      <th>% Free games</th>\n",
       "    </tr>\n",
       "  </thead>\n",
       "  <tbody>\n",
       "    <tr>\n",
       "      <th>0</th>\n",
       "      <td>2017</td>\n",
       "      <td>9</td>\n",
       "      <td>0</td>\n",
       "    </tr>\n",
       "    <tr>\n",
       "      <th>1</th>\n",
       "      <td>2018</td>\n",
       "      <td>1</td>\n",
       "      <td>0</td>\n",
       "    </tr>\n",
       "  </tbody>\n",
       "</table>\n",
       "</div>"
      ],
      "text/plain": [
       "   Year  Number of games  % Free games\n",
       "0  2017                9             0\n",
       "1  2018                1             0"
      ]
     },
     "execution_count": 29,
     "metadata": {},
     "output_type": "execute_result"
    }
   ],
   "source": [
    "\n",
    "developer(\"Laush Dmitriy Sergeevich\")"
   ]
  },
  {
   "cell_type": "markdown",
   "metadata": {},
   "source": [
    "Examples"
   ]
  },
  {
   "cell_type": "code",
   "execution_count": 30,
   "metadata": {},
   "outputs": [
    {
     "name": "stdout",
     "output_type": "stream",
     "text": [
      "   Year  Number of games  % Free games\n",
      "0  2018                1             0\n",
      "   Year  Number of games  % Free games\n",
      "0  2017                9             0\n",
      "1  2018                1             0\n",
      "   Year  Number of games  % Free games\n",
      "0  2017                1           100\n"
     ]
    }
   ],
   "source": [
    "# Call the function \n",
    "result = developer(\"Kotoshiro\")\n",
    "result2 = developer (\"Laush Dmitriy Sergeevich\")\n",
    "result3 = developer(\"Poolians.com\")\n",
    "\n",
    "# Print the result\n",
    "print(result)\n",
    "print(result2)\n",
    "print(result3)"
   ]
  },
  {
   "cell_type": "markdown",
   "metadata": {},
   "source": [
    "# 02.2 User_Data Function"
   ]
  },
  {
   "cell_type": "markdown",
   "metadata": {},
   "source": [
    "\n",
    "This function provides a summary of the amount of money spent by the user, the percentage of recommendation based on `reviews.recommend`, and the quantity of items."
   ]
  },
  {
   "cell_type": "code",
   "execution_count": 32,
   "metadata": {},
   "outputs": [],
   "source": [
    "def userdata(user_id):\n",
    "    \n",
    "    # Filter by the user of interest\n",
    "    user = df_reviews[df_reviews['user_id'] == user_id]\n",
    "    # Calculate the amount of money spent for the user of interest\n",
    "    amount_money = df_expenses_items[df_expenses_items['user_id']== user_id]['price'].sum()\n",
    "   \n",
    "    # Search for the count_item for the user of interest    \n",
    "    count_items = df_expenses_items[df_expenses_items['user_id']== user_id]['items_count'].iloc[0]\n",
    "    \n",
    "    # Calculate the total recommendations made by the user of interest\n",
    "    total_recommendations = user['recommend'].sum()\n",
    "    # Calculate the total reviews made by all users\n",
    "    total_reviews = len(df_reviews['user_id'].unique())\n",
    "    # Calculate the percentage of recommendations made by the user of interest\n",
    "    percentage_recommendations = (total_recommendations / total_reviews) * 100\n",
    "    \n",
    "    return {\n",
    "        'user_id': user_id,\n",
    "        'amount_money': amount_money,\n",
    "        'percentage_recommendation': round(percentage_recommendations, 2),\n",
    "        'total_items': count_items.astype(int)\n",
    "    }"
   ]
  },
  {
   "cell_type": "markdown",
   "metadata": {},
   "source": [
    "EJEMPLOS"
   ]
  },
  {
   "cell_type": "code",
   "execution_count": 33,
   "metadata": {},
   "outputs": [
    {
     "data": {
      "text/plain": [
       "{'user_id': 'EchoXSilence',\n",
       " 'amount_money': 189.84,\n",
       " 'percentage_recommendation': 0.0,\n",
       " 'total_items': 23}"
      ]
     },
     "execution_count": 33,
     "metadata": {},
     "output_type": "execute_result"
    }
   ],
   "source": [
    "user_id = 'EchoXSilence'\n",
    "userdata(user_id)"
   ]
  },
  {
   "cell_type": "code",
   "execution_count": 34,
   "metadata": {},
   "outputs": [
    {
     "data": {
      "text/plain": [
       "{'user_id': 'js41637',\n",
       " 'amount_money': 8489.14,\n",
       " 'percentage_recommendation': 0.01,\n",
       " 'total_items': 888}"
      ]
     },
     "execution_count": 34,
     "metadata": {},
     "output_type": "execute_result"
    }
   ],
   "source": [
    "user_id1 = \"js41637\"\n",
    "userdata(user_id1)"
   ]
  },
  {
   "cell_type": "code",
   "execution_count": 35,
   "metadata": {},
   "outputs": [
    {
     "data": {
      "text/plain": [
       "{'user_id': '76561197970982479',\n",
       " 'amount_money': 3419.32,\n",
       " 'percentage_recommendation': 0.01,\n",
       " 'total_items': 277}"
      ]
     },
     "execution_count": 35,
     "metadata": {},
     "output_type": "execute_result"
    }
   ],
   "source": [
    "# Replace \"your user id here\" with the ID of the user you want to query\n",
    "user_id2 = \"76561197970982479\"\n",
    "\n",
    "# Call the userdata function with the specific user ID\n",
    "userdata(user_id2)\n"
   ]
  },
  {
   "cell_type": "markdown",
   "metadata": {},
   "source": [
    "# 03.2 UserForGenre Function"
   ]
  },
  {
   "cell_type": "markdown",
   "metadata": {},
   "source": [
    "Returns the user who has accumulated the most playtime for the given genre,\n",
    "along with a list of playtime accumulation by release year."
   ]
  },
  {
   "cell_type": "code",
   "execution_count": 36,
   "metadata": {},
   "outputs": [
    {
     "name": "stdout",
     "output_type": "stream",
     "text": [
      "<class 'pandas.core.frame.DataFrame'>\n",
      "RangeIndex: 9877304 entries, 0 to 9877303\n",
      "Data columns (total 5 columns):\n",
      " #   Column            Dtype  \n",
      "---  ------            -----  \n",
      " 0   playtime_forever  float64\n",
      " 1   user_id           object \n",
      " 2   item_id           int32  \n",
      " 3   genres            object \n",
      " 4   release_year      object \n",
      "dtypes: float64(1), int32(1), object(3)\n",
      "memory usage: 339.1+ MB\n"
     ]
    }
   ],
   "source": [
    "df_playtime.info()"
   ]
  },
  {
   "cell_type": "code",
   "execution_count": 37,
   "metadata": {},
   "outputs": [],
   "source": [
    "def UserForGenre(genre: str) -> dict:\n",
    "    # Filter the DataFrame for the specific genre\n",
    "    genre_df = df_playtime[df_playtime['genres'] == genre]\n",
    "    \n",
    "    # Convert playtime from minutes to hours\n",
    "    genre_df['playtime_forever'] = genre_df['playtime_forever'] / 60\n",
    "    \n",
    "    # Group by user_id and sum the playtime_forever\n",
    "    user_playtime = genre_df.groupby('user_id')['playtime_forever'].sum()\n",
    "    \n",
    "    # Get the user with the most playtime\n",
    "    top_user = user_playtime.idxmax()\n",
    "    \n",
    "    # Filter the DataFrame for the top user and the specific genre\n",
    "    top_user_genre_df = genre_df[genre_df['user_id'] == top_user]\n",
    "    \n",
    "    # Group by release_year and sum the playtime_forever\n",
    "    playtime_by_year = top_user_genre_df.groupby('release_year')['playtime_forever'].sum()\n",
    "    \n",
    "    # Prepare the playtime list\n",
    "    playtime_list = []\n",
    "    for year, playtime in playtime_by_year.items():\n",
    "        try:\n",
    "            # Try to convert the year to an integer\n",
    "            year_int = int(year)\n",
    "            # Convert playtime to a native Python float\n",
    "            playtime_float = float(playtime)\n",
    "            playtime_list.append({\"Year\": year_int, \"Hours\": playtime_float})\n",
    "        except ValueError:\n",
    "            # Skip rows where year is not a numeric value\n",
    "            continue\n",
    "    \n",
    "    return {\n",
    "        \"User with most playtime for Genre {}\".format(genre): str(top_user),\n",
    "        \"Playtime\": playtime_list\n",
    "    }"
   ]
  },
  {
   "cell_type": "markdown",
   "metadata": {},
   "source": [
    "Examples"
   ]
  },
  {
   "cell_type": "code",
   "execution_count": 38,
   "metadata": {},
   "outputs": [
    {
     "name": "stderr",
     "output_type": "stream",
     "text": [
      "C:\\Users\\m_evi\\AppData\\Local\\Temp\\ipykernel_3468\\4116391173.py:6: SettingWithCopyWarning: \n",
      "A value is trying to be set on a copy of a slice from a DataFrame.\n",
      "Try using .loc[row_indexer,col_indexer] = value instead\n",
      "\n",
      "See the caveats in the documentation: https://pandas.pydata.org/pandas-docs/stable/user_guide/indexing.html#returning-a-view-versus-a-copy\n",
      "  genre_df['playtime_forever'] = genre_df['playtime_forever'] / 60\n"
     ]
    },
    {
     "data": {
      "text/plain": [
       "{'User with most playtime for Genre Simulation': 'jimmynoe',\n",
       " 'Playtime': [{'Year': 2003, 'Hours': 0.16666666666666666},\n",
       "  {'Year': 2006, 'Hours': 9195.316666666668},\n",
       "  {'Year': 2007, 'Hours': 0.0},\n",
       "  {'Year': 2009, 'Hours': 0.25},\n",
       "  {'Year': 2010, 'Hours': 0.0},\n",
       "  {'Year': 2011, 'Hours': 6967.383333333334},\n",
       "  {'Year': 2012, 'Hours': 26.533333333333335},\n",
       "  {'Year': 2013, 'Hours': 29.183333333333334},\n",
       "  {'Year': 2014, 'Hours': 13.983333333333333},\n",
       "  {'Year': 2015, 'Hours': 1230.2},\n",
       "  {'Year': 2016, 'Hours': 239.14999999999998},\n",
       "  {'Year': 2017, 'Hours': 0.0}]}"
      ]
     },
     "execution_count": 38,
     "metadata": {},
     "output_type": "execute_result"
    }
   ],
   "source": [
    "genre = 'Simulation'\n",
    "UserForGenre(genre)"
   ]
  },
  {
   "cell_type": "code",
   "execution_count": 39,
   "metadata": {},
   "outputs": [
    {
     "name": "stderr",
     "output_type": "stream",
     "text": [
      "C:\\Users\\m_evi\\AppData\\Local\\Temp\\ipykernel_3468\\4116391173.py:6: SettingWithCopyWarning: \n",
      "A value is trying to be set on a copy of a slice from a DataFrame.\n",
      "Try using .loc[row_indexer,col_indexer] = value instead\n",
      "\n",
      "See the caveats in the documentation: https://pandas.pydata.org/pandas-docs/stable/user_guide/indexing.html#returning-a-view-versus-a-copy\n",
      "  genre_df['playtime_forever'] = genre_df['playtime_forever'] / 60\n"
     ]
    },
    {
     "data": {
      "text/plain": [
       "{'User with most playtime for Genre Indie': 'REBAS_AS_F-T',\n",
       " 'Playtime': [{'Year': 1999, 'Hours': 0.0},\n",
       "  {'Year': 2001, 'Hours': 0.18333333333333332},\n",
       "  {'Year': 2003, 'Hours': 31.05},\n",
       "  {'Year': 2005, 'Hours': 0.0},\n",
       "  {'Year': 2006, 'Hours': 27.883333333333333},\n",
       "  {'Year': 2007, 'Hours': 17.833333333333332},\n",
       "  {'Year': 2008, 'Hours': 22.766666666666666},\n",
       "  {'Year': 2009, 'Hours': 483.2166666666667},\n",
       "  {'Year': 2010, 'Hours': 358.1166666666667},\n",
       "  {'Year': 2011, 'Hours': 1669.25},\n",
       "  {'Year': 2012, 'Hours': 2474.3166666666666},\n",
       "  {'Year': 2013, 'Hours': 2822.483333333333},\n",
       "  {'Year': 2014, 'Hours': 5448.783333333334},\n",
       "  {'Year': 2015, 'Hours': 12529.416666666666},\n",
       "  {'Year': 2016, 'Hours': 13572.883333333333},\n",
       "  {'Year': 2017, 'Hours': 564.7833333333333}]}"
      ]
     },
     "execution_count": 39,
     "metadata": {},
     "output_type": "execute_result"
    }
   ],
   "source": [
    "genre1 = 'Indie'\n",
    "UserForGenre(genre1)"
   ]
  },
  {
   "cell_type": "markdown",
   "metadata": {},
   "source": [
    "# 04.2 BestDevYear Function"
   ]
  },
  {
   "cell_type": "markdown",
   "metadata": {},
   "source": [
    "Returns the top 3 developers with the HIGHEST user-recommended games for the given year."
   ]
  },
  {
   "cell_type": "code",
   "execution_count": 40,
   "metadata": {},
   "outputs": [],
   "source": [
    "def best_developer_year(year: int):\n",
    "    # Replace non-numeric 'release_year' values with NaN\n",
    "    df_reviews['release_year'] = pd.to_numeric(df_reviews['release_year'], errors='coerce')\n",
    "    \n",
    "    # Filter DataFrame by the given year and positive recommendations\n",
    "    df_filtered = df_reviews[(df_reviews['release_year'] == year) & (df_reviews['recommend'] == True) & (df_reviews['sentiment_analysis'] == 2)]\n",
    "    \n",
    "    # Group by developer and count the recommendations\n",
    "    df_grouped = df_filtered.groupby('developer').size()\n",
    "    \n",
    "    # Get the top 3 developers\n",
    "    top_developers = df_grouped.nlargest(3).index.tolist()\n",
    "    \n",
    "    # Prepare the result in the desired format\n",
    "    result = [{\"Rank {}\".format(i+1): dev} for i, dev in enumerate(top_developers)]\n",
    "    \n",
    "    return result"
   ]
  },
  {
   "cell_type": "markdown",
   "metadata": {},
   "source": [
    "Examples"
   ]
  },
  {
   "cell_type": "code",
   "execution_count": 41,
   "metadata": {},
   "outputs": [
    {
     "data": {
      "text/plain": [
       "[{'Rank 1': 'Valve'},\n",
       " {'Rank 2': 'Tripwire Interactive'},\n",
       " {'Rank 3': 'Infinity Ward,Aspyr (Mac)'}]"
      ]
     },
     "execution_count": 41,
     "metadata": {},
     "output_type": "execute_result"
    }
   ],
   "source": [
    "year=2009\n",
    "best_developer_year(year)"
   ]
  },
  {
   "cell_type": "code",
   "execution_count": 42,
   "metadata": {},
   "outputs": [
    {
     "data": {
      "text/plain": [
       "[{'Rank 1': 'Valve'},\n",
       " {'Rank 2': 'Gearbox Software,Aspyr (Mac &amp; Linux)'},\n",
       " {'Rank 3': 'Daybreak Game Company'}]"
      ]
     },
     "execution_count": 42,
     "metadata": {},
     "output_type": "execute_result"
    }
   ],
   "source": [
    "year1=2012\n",
    "best_developer_year(year1)"
   ]
  },
  {
   "cell_type": "markdown",
   "metadata": {},
   "source": [
    "# 05.2 DevReviewsAnalysis Function"
   ]
  },
  {
   "cell_type": "markdown",
   "metadata": {},
   "source": [
    "Returns a dictionary with the developer's name as the key and a list of total review records\n",
    "from users categorized with positive sentiment analysis as the value. Negative and Positive😊"
   ]
  },
  {
   "cell_type": "code",
   "execution_count": 43,
   "metadata": {},
   "outputs": [
    {
     "name": "stdout",
     "output_type": "stream",
     "text": [
      "<class 'pandas.core.frame.DataFrame'>\n",
      "RangeIndex: 49714 entries, 0 to 49713\n",
      "Data columns (total 8 columns):\n",
      " #   Column              Non-Null Count  Dtype  \n",
      "---  ------              --------------  -----  \n",
      " 0   user_id             49714 non-null  object \n",
      " 1   user_url            49714 non-null  object \n",
      " 2   sentiment_analysis  49714 non-null  int64  \n",
      " 3   posted              49714 non-null  object \n",
      " 4   item_id             49714 non-null  int64  \n",
      " 5   recommend           49714 non-null  bool   \n",
      " 6   release_year        49430 non-null  float64\n",
      " 7   developer           49714 non-null  object \n",
      "dtypes: bool(1), float64(1), int64(2), object(4)\n",
      "memory usage: 2.7+ MB\n"
     ]
    }
   ],
   "source": [
    "df_reviews.info()"
   ]
  },
  {
   "cell_type": "code",
   "execution_count": 44,
   "metadata": {},
   "outputs": [],
   "source": [
    "def dev_reviews_analysis(developer):\n",
    "    # Filter the reviews for the specific developer\n",
    "    reviews2 = df_reviews[df_reviews['developer'] == str(developer)]  # Convert developer name to a string\n",
    "    \n",
    "    # Initialize a dictionary to count the sentiment categories\n",
    "    sentiment_counts = {'Negative': 0, 'Positive': 0}\n",
    "    \n",
    "    # Iterate through the reviews of the specified developer\n",
    "    for index, row in reviews2.iterrows():\n",
    "        sentiment = row['sentiment_analysis']\n",
    "        sentiment_category = ''\n",
    "        \n",
    "        # Assign the corresponding sentiment category\n",
    "        if sentiment == 0:\n",
    "            sentiment_category = 'Negative'\n",
    "        elif sentiment == 2:\n",
    "            sentiment_category = 'Positive'\n",
    "        else:\n",
    "            # Skip reviews with missing or neutral sentiment\n",
    "            continue\n",
    "        \n",
    "        # Increment the corresponding counter in the dictionary\n",
    "        sentiment_counts[sentiment_category] += 1\n",
    "    \n",
    "    \n",
    "    return {\"developer\": developer, \"sentiment_counts\": sentiment_counts}"
   ]
  },
  {
   "cell_type": "markdown",
   "metadata": {},
   "source": [
    "EXAMPLE"
   ]
  },
  {
   "cell_type": "code",
   "execution_count": 45,
   "metadata": {},
   "outputs": [
    {
     "data": {
      "text/plain": [
       "{'developer': 'Trion Worlds, Inc.',\n",
       " 'sentiment_counts': {'Negative': 9, 'Positive': 15}}"
      ]
     },
     "execution_count": 45,
     "metadata": {},
     "output_type": "execute_result"
    }
   ],
   "source": [
    "developer = \"Trion Worlds, Inc.\"\n",
    "dev_reviews_analysis(developer)"
   ]
  }
 ],
 "metadata": {
  "kernelspec": {
   "display_name": "Python 3",
   "language": "python",
   "name": "python3"
  },
  "language_info": {
   "codemirror_mode": {
    "name": "ipython",
    "version": 3
   },
   "file_extension": ".py",
   "mimetype": "text/x-python",
   "name": "python",
   "nbconvert_exporter": "python",
   "pygments_lexer": "ipython3",
   "version": "3.11.8"
  }
 },
 "nbformat": 4,
 "nbformat_minor": 2
}
