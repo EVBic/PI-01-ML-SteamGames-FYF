{
 "cells": [
  {
   "cell_type": "code",
   "execution_count": 4,
   "metadata": {},
   "outputs": [],
   "source": [
    "import pandas as pd\n",
    "import numpy as np\n",
    "import scipy as sp\n",
    "from sklearn.metrics.pairwise import cosine_similarity\n",
    "import operator\n",
    "import pyarrow as pa\n",
    "import pyarrow.parquet as pq"
   ]
  },
  {
   "cell_type": "code",
   "execution_count": 5,
   "metadata": {},
   "outputs": [],
   "source": [
    "# Read the Parquet file into a PyArrow Table\n",
    "df_reviews= pd.read_parquet(r\"C:\\My Project\\Integ\\MLInt\\Datasets\\CleanDatasets\\df_reviews_l.parquet\")\n",
    "df_genre_ranking = pd.read_parquet(r\"C:\\My Project\\Integ\\MLInt\\Datasets\\CleanDatasets\\df_genre_ranking.parquet\")\n",
    "df_playtime = pd.read_parquet(r\"C:\\My Project\\Integ\\MLInt\\Datasets\\CleanDatasets\\df_playtime.parquet\")\n",
    "df_funct_dev = pd.read_parquet(r\"C:\\My Project\\Integ\\MLInt\\Datasets\\CleanDatasets\\df_funct_dev.parquet\")\n",
    "df_expenses_items = pd.read_parquet(r\"C:\\My Project\\Integ\\MLInt\\Datasets\\CleanDatasets\\df_expenses_items.parquet\")"
   ]
  },
  {
   "cell_type": "markdown",
   "metadata": {},
   "source": [
    "# 01.2 Developer Function"
   ]
  },
  {
   "cell_type": "markdown",
   "metadata": {},
   "source": [
    "The function takes the game developer as a parameter, and returns the number of items developed per year and the amount of free content per year."
   ]
  },
  {
   "cell_type": "code",
   "execution_count": 6,
   "metadata": {},
   "outputs": [],
   "source": [
    "def developer(developer_name: str):\n",
    "    # Filter games by the specified developer\n",
    "    filtered_developer = df_funct_dev[df_funct_dev['developer'] == developer_name]\n",
    "\n",
    "    # Count the number of games released per year\n",
    "    game_count_by_year = filtered_developer.groupby('release_year')['item_id'].count()\n",
    "\n",
    "    # Calculate the percentage of free games released per year\n",
    "    free_games_percentage = (filtered_developer[filtered_developer['price'] == 0.0]\n",
    "                             .groupby('release_year')['item_id']\n",
    "                             .count() / game_count_by_year * 100).fillna(0).astype(int)\n",
    "\n",
    "    # Create a DataFrame from the results dictionary\n",
    "    results_df = pd.DataFrame({\n",
    "        'Year': game_count_by_year.index,\n",
    "        'Number of games': game_count_by_year.values,\n",
    "        '% Free games': free_games_percentage.values\n",
    "    })\n",
    "\n",
    "    return results_df\n"
   ]
  },
  {
   "cell_type": "markdown",
   "metadata": {},
   "source": [
    "Examples"
   ]
  },
  {
   "cell_type": "code",
   "execution_count": 7,
   "metadata": {},
   "outputs": [
    {
     "name": "stdout",
     "output_type": "stream",
     "text": [
      "   Year  Number of games  % Free games\n",
      "0  2018                1             0\n",
      "   Year  Number of games  % Free games\n",
      "0  2017                9             0\n",
      "1  2018                1             0\n",
      "   Year  Number of games  % Free games\n",
      "0  2017                1           100\n"
     ]
    }
   ],
   "source": [
    "# Call the function \n",
    "result = developer(\"Kotoshiro\")\n",
    "result2 = developer (\"Laush Dmitriy Sergeevich\")\n",
    "result3 = developer(\"Poolians.com\")\n",
    "\n",
    "# Print the result\n",
    "print(result)\n",
    "print(result2)\n",
    "print(result3)"
   ]
  },
  {
   "cell_type": "markdown",
   "metadata": {},
   "source": [
    "# 02.2 User_Data Function"
   ]
  },
  {
   "cell_type": "markdown",
   "metadata": {},
   "source": [
    "\n",
    "This function provides a summary of a user’s activity on Steam, including how much money they’ve spent, what percentage of games they’ve recommended, and how many games they own. Please replace ‘user_id’, ‘df_reviews’, ‘item_id’, ‘df_games’, ‘price’, ‘recommend’, ‘money_spent’, ‘recommend_percentage’, and ‘num_items’ with your actual column and key names. "
   ]
  },
  {
   "cell_type": "code",
   "execution_count": 6,
   "metadata": {},
   "outputs": [],
   "source": [
    "def userdata(user_id):\n",
    "    \n",
    "    # Filter by the user of interest\n",
    "    user = df_reviews[df_reviews['user_id'] == user_id]\n",
    "    # Calculate the amount of money spent for the user of interest\n",
    "    amount_money = df_expenses_items[df_expenses_items['user_id']== user_id]['price'].sum()\n",
    "   \n",
    "    # Search for the count_item for the user of interest    \n",
    "    count_items = df_expenses_items[df_expenses_items['user_id']== user_id]['items_count'].iloc[0]\n",
    "    \n",
    "    # Calculate the total recommendations made by the user of interest\n",
    "    total_recommendations = user['recommend'].sum()\n",
    "    # Calculate the total reviews made by all users\n",
    "    total_reviews = len(df_reviews['user_id'].unique())\n",
    "    # Calculate the percentage of recommendations made by the user of interest\n",
    "    percentage_recommendations = (total_recommendations / total_reviews) * 100\n",
    "    \n",
    "    return {\n",
    "        'amount_money': amount_money,\n",
    "        'percentage_recommendation': round(percentage_recommendations, 2),\n",
    "        'total_items': count_items.astype(int)\n",
    "    }"
   ]
  },
  {
   "cell_type": "markdown",
   "metadata": {},
   "source": [
    "EJEMPLOS"
   ]
  },
  {
   "cell_type": "code",
   "execution_count": 7,
   "metadata": {},
   "outputs": [
    {
     "data": {
      "text/plain": [
       "{'amount_money': 189.84, 'percentage_recommendation': 0.0, 'total_items': 23}"
      ]
     },
     "execution_count": 7,
     "metadata": {},
     "output_type": "execute_result"
    }
   ],
   "source": [
    "user_id = 'EchoXSilence'\n",
    "userdata(user_id)"
   ]
  },
  {
   "cell_type": "code",
   "execution_count": 8,
   "metadata": {},
   "outputs": [
    {
     "data": {
      "text/plain": [
       "{'amount_money': 8489.14,\n",
       " 'percentage_recommendation': 0.01,\n",
       " 'total_items': 888}"
      ]
     },
     "execution_count": 8,
     "metadata": {},
     "output_type": "execute_result"
    }
   ],
   "source": [
    "user_id1 = \"js41637\"\n",
    "userdata(user_id1)"
   ]
  },
  {
   "cell_type": "code",
   "execution_count": 9,
   "metadata": {},
   "outputs": [
    {
     "data": {
      "text/plain": [
       "{'amount_money': 3419.32,\n",
       " 'percentage_recommendation': 0.01,\n",
       " 'total_items': 277}"
      ]
     },
     "execution_count": 9,
     "metadata": {},
     "output_type": "execute_result"
    }
   ],
   "source": [
    "# Replace \"your user id here\" with the ID of the user you want to query\n",
    "user_id2 = \"76561197970982479\"\n",
    "\n",
    "# Call the userdata function with the specific user ID\n",
    "userdata(user_id2)\n"
   ]
  },
  {
   "cell_type": "markdown",
   "metadata": {},
   "source": [
    "# 03.2 UserForGenre Function"
   ]
  },
  {
   "cell_type": "markdown",
   "metadata": {},
   "source": [
    "This function takes the genre of a video game as a parameter and returns the top 5 users with the most gameplay hours in the specified genre. It provides the user ID and their profile URL."
   ]
  },
  {
   "cell_type": "code",
   "execution_count": 10,
   "metadata": {},
   "outputs": [],
   "source": [
    "def userForGenre(genre):\n",
    "    \n",
    "    # Filter the dataframe by the genre of interest\n",
    "    data_by_genre = df_playtime[df_playtime['genres'] == genre]\n",
    "    # Group the filtered dataframe by user and sum the number of hours\n",
    "    top_users = data_by_genre.groupby(['user_url', 'user_id'])['playtime_hours'].sum().nlargest(5).reset_index()\n",
    "    \n",
    "    # An empty dictionary is made to store the needed data\n",
    "    top_users_dict = {}\n",
    "    for index, row in top_users.iterrows():\n",
    "        # User info goes through each row of the top 5 and saves it in the dictionary\n",
    "        user_info = {\n",
    "            'user_id': row['user_id'],\n",
    "            'user_url': row['user_url']\n",
    "        }\n",
    "        top_users_dict[index + 1] = user_info\n",
    "    \n",
    "    return top_users_dict"
   ]
  },
  {
   "cell_type": "markdown",
   "metadata": {},
   "source": [
    "Examples"
   ]
  },
  {
   "cell_type": "code",
   "execution_count": 11,
   "metadata": {},
   "outputs": [
    {
     "data": {
      "text/plain": [
       "{1: {'user_id': 'Sp3ctre', 'user_url': 'http://steamcommunity.com/id/Sp3ctre'},\n",
       " 2: {'user_id': 'shinomegami',\n",
       "  'user_url': 'http://steamcommunity.com/id/shinomegami'},\n",
       " 3: {'user_id': 'REBAS_AS_F-T',\n",
       "  'user_url': 'http://steamcommunity.com/id/REBAS_AS_F-T'},\n",
       " 4: {'user_id': 'Terminally-Chill',\n",
       "  'user_url': 'http://steamcommunity.com/id/Terminally-Chill'},\n",
       " 5: {'user_id': 'DownSyndromeKid',\n",
       "  'user_url': 'http://steamcommunity.com/id/DownSyndromeKid'}}"
      ]
     },
     "execution_count": 11,
     "metadata": {},
     "output_type": "execute_result"
    }
   ],
   "source": [
    "genre = 'Action'\n",
    "userForGenre(genre)"
   ]
  },
  {
   "cell_type": "code",
   "execution_count": 12,
   "metadata": {},
   "outputs": [
    {
     "data": {
      "text/plain": [
       "{1: {'user_id': 'REBAS_AS_F-T',\n",
       "  'user_url': 'http://steamcommunity.com/id/REBAS_AS_F-T'},\n",
       " 2: {'user_id': 'jimmynoe',\n",
       "  'user_url': 'http://steamcommunity.com/id/jimmynoe'},\n",
       " 3: {'user_id': 'shinomegami',\n",
       "  'user_url': 'http://steamcommunity.com/id/shinomegami'},\n",
       " 4: {'user_id': 'Steamified',\n",
       "  'user_url': 'http://steamcommunity.com/id/Steamified'},\n",
       " 5: {'user_id': 'idonothack',\n",
       "  'user_url': 'http://steamcommunity.com/id/idonothack'}}"
      ]
     },
     "execution_count": 12,
     "metadata": {},
     "output_type": "execute_result"
    }
   ],
   "source": [
    "genre1 = 'Indie'\n",
    "userForGenre(genre1)"
   ]
  },
  {
   "cell_type": "markdown",
   "metadata": {},
   "source": [
    "# 04.2 BestDevYear Function"
   ]
  },
  {
   "cell_type": "markdown",
   "metadata": {},
   "source": []
  },
  {
   "cell_type": "code",
   "execution_count": 13,
   "metadata": {},
   "outputs": [],
   "source": [
    "def best_developer_year(year: int):\n",
    "    # Replace non-numeric 'release_year' values with NaN\n",
    "    df_reviews['release_year'] = pd.to_numeric(df_reviews['release_year'], errors='coerce')\n",
    "    \n",
    "    # Filter DataFrame by the given year and positive recommendations\n",
    "    df_filtered = df_reviews[(df_reviews['release_year'] == year) & (df_reviews['recommend'] == True) & (df_reviews['sentiment_analysis'] == 2)]\n",
    "    \n",
    "    # Group by developer and count the recommendations\n",
    "    df_grouped = df_filtered.groupby('developer').size()\n",
    "    \n",
    "    # Get the top 3 developers\n",
    "    top_developers = df_grouped.nlargest(3).index.tolist()\n",
    "    \n",
    "    return {\"Top 3 Developers\": top_developers}"
   ]
  },
  {
   "cell_type": "markdown",
   "metadata": {},
   "source": [
    "Examples"
   ]
  },
  {
   "cell_type": "code",
   "execution_count": 14,
   "metadata": {},
   "outputs": [
    {
     "data": {
      "text/plain": [
       "{'Top 3 Developers': ['Valve',\n",
       "  'Tripwire Interactive',\n",
       "  'Infinity Ward,Aspyr (Mac)']}"
      ]
     },
     "execution_count": 14,
     "metadata": {},
     "output_type": "execute_result"
    }
   ],
   "source": [
    "year=2009\n",
    "best_developer_year(year)"
   ]
  },
  {
   "cell_type": "code",
   "execution_count": 15,
   "metadata": {},
   "outputs": [
    {
     "data": {
      "text/plain": [
       "{'Top 3 Developers': ['Valve',\n",
       "  'Gearbox Software,Aspyr (Mac &amp; Linux)',\n",
       "  'Daybreak Game Company']}"
      ]
     },
     "execution_count": 15,
     "metadata": {},
     "output_type": "execute_result"
    }
   ],
   "source": [
    "year1=2012\n",
    "best_developer_year(year1)"
   ]
  },
  {
   "cell_type": "markdown",
   "metadata": {},
   "source": [
    "# 05.2 DevReviewsAnalysis Function"
   ]
  },
  {
   "cell_type": "markdown",
   "metadata": {},
   "source": [
    "This function takes the release year of a game as a parameter and, based on that year, returns a list with the number of user review records that are categorized with a sentiment analysis, such as Negative, Neutral, and Positive. 😊"
   ]
  },
  {
   "cell_type": "code",
   "execution_count": 41,
   "metadata": {},
   "outputs": [
    {
     "name": "stdout",
     "output_type": "stream",
     "text": [
      "<class 'pandas.core.frame.DataFrame'>\n",
      "RangeIndex: 49714 entries, 0 to 49713\n",
      "Data columns (total 8 columns):\n",
      " #   Column              Non-Null Count  Dtype  \n",
      "---  ------              --------------  -----  \n",
      " 0   user_id             49714 non-null  object \n",
      " 1   user_url            49714 non-null  object \n",
      " 2   sentiment_analysis  49714 non-null  int64  \n",
      " 3   posted              49714 non-null  object \n",
      " 4   item_id             49714 non-null  int64  \n",
      " 5   recommend           49714 non-null  bool   \n",
      " 6   release_year        49430 non-null  float64\n",
      " 7   developer           49714 non-null  object \n",
      "dtypes: bool(1), float64(1), int64(2), object(4)\n",
      "memory usage: 2.7+ MB\n"
     ]
    }
   ],
   "source": [
    "df_reviews.info()"
   ]
  },
  {
   "cell_type": "code",
   "execution_count": 21,
   "metadata": {},
   "outputs": [],
   "source": [
    "def dev_reviews_analysis(developer):\n",
    "    # Filter the reviews for the specific developer\n",
    "    reviews2 = df_reviews[df_reviews['developer'] == str(developer)]  # Convert developer name to a string\n",
    "    \n",
    "    # Initialize a dictionary to count the sentiment categories\n",
    "    sentiment_counts = {'Negative': 0, 'Positive': 0}\n",
    "    \n",
    "    # Iterate through the reviews of the specified developer\n",
    "    for index, row in reviews2.iterrows():\n",
    "        sentiment = row['sentiment_analysis']\n",
    "        sentiment_category = ''\n",
    "        \n",
    "        # Assign the corresponding sentiment category\n",
    "        if sentiment == 0:\n",
    "            sentiment_category = 'Negative'\n",
    "        elif sentiment == 2:\n",
    "            sentiment_category = 'Positive'\n",
    "        else:\n",
    "            # Skip reviews with missing or neutral sentiment\n",
    "            continue\n",
    "        \n",
    "        # Increment the corresponding counter in the dictionary\n",
    "        sentiment_counts[sentiment_category] += 1\n",
    "    \n",
    "    \n",
    "    return {\"developer\": developer, \"sentiment_counts\": sentiment_counts}"
   ]
  },
  {
   "cell_type": "markdown",
   "metadata": {},
   "source": [
    "EXAMPLE"
   ]
  },
  {
   "cell_type": "code",
   "execution_count": 22,
   "metadata": {},
   "outputs": [
    {
     "data": {
      "text/plain": [
       "{'developer': 'Trion Worlds, Inc.',\n",
       " 'sentiment_counts': {'Negative': 9, 'Positive': 15}}"
      ]
     },
     "execution_count": 22,
     "metadata": {},
     "output_type": "execute_result"
    }
   ],
   "source": [
    "developer = \"Trion Worlds, Inc.\"\n",
    "dev_reviews_analysis(developer)"
   ]
  }
 ],
 "metadata": {
  "kernelspec": {
   "display_name": "Python 3",
   "language": "python",
   "name": "python3"
  },
  "language_info": {
   "codemirror_mode": {
    "name": "ipython",
    "version": 3
   },
   "file_extension": ".py",
   "mimetype": "text/x-python",
   "name": "python",
   "nbconvert_exporter": "python",
   "pygments_lexer": "ipython3",
   "version": "3.11.8"
  }
 },
 "nbformat": 4,
 "nbformat_minor": 2
}
